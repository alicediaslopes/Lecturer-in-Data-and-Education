{
 "cells": [
  {
   "cell_type": "markdown",
   "id": "8386c1e4",
   "metadata": {},
   "source": [
    "# Course presentation: Lecturer in Data and Education"
   ]
  },
  {
   "cell_type": "markdown",
   "id": "3a9eaf0f",
   "metadata": {},
   "source": [
    "## Introduction to Jupyter Notebooks"
   ]
  },
  {
   "cell_type": "markdown",
   "id": "9f4dfb4b",
   "metadata": {},
   "source": [
    "Computational notebooks are interactive documents that can contain both computer code (such as Python) as well as rich text and media content (paragraphs of text, equations, images and links). As these notebooks are interactive it allows the user to write, edit and run code and then see the output of those code cells within the document. This means that notebooks can become powerful teaching tools, either by providing pre-made documents with live code and explanatory text or by allowing users to play with and then develop code."
   ]
  },
  {
   "cell_type": "markdown",
   "id": "7657a959",
   "metadata": {},
   "source": [
    "## Opening a dataset"
   ]
  },
  {
   "cell_type": "markdown",
   "id": "d4784a87",
   "metadata": {},
   "source": [
    "R comes with several built-in data sets, which are generally used as demo data for playing with R functions. Today, we will use the Student Admissions at UC Berkeley dataset."
   ]
  },
  {
   "cell_type": "code",
   "execution_count": 20,
   "id": "f4d395b5",
   "metadata": {},
   "outputs": [],
   "source": [
    "# Opening the dataset\n",
    "data(Orange)"
   ]
  },
  {
   "cell_type": "markdown",
   "id": "e6c5eb89",
   "metadata": {},
   "source": [
    "## What are data frames?\n",
    "\n",
    "Data frames are the representation of data in the format of a table. Columns are vectors that have the same lenght. Each column must contain a single type of table. There are functions to extract this information from data frames. Here is a non-exhaustive list of some of these functions:\n"
   ]
  },
  {
   "cell_type": "code",
   "execution_count": 22,
   "id": "9a8ddf81",
   "metadata": {},
   "outputs": [
    {
     "data": {
      "text/html": [
       "<ol class=list-inline>\n",
       "\t<li>35</li>\n",
       "\t<li>3</li>\n",
       "</ol>\n"
      ],
      "text/latex": [
       "\\begin{enumerate*}\n",
       "\\item 35\n",
       "\\item 3\n",
       "\\end{enumerate*}\n"
      ],
      "text/markdown": [
       "1. 35\n",
       "2. 3\n",
       "\n",
       "\n"
      ],
      "text/plain": [
       "[1] 35  3"
      ]
     },
     "metadata": {},
     "output_type": "display_data"
    },
    {
     "data": {
      "text/html": [
       "35"
      ],
      "text/latex": [
       "35"
      ],
      "text/markdown": [
       "35"
      ],
      "text/plain": [
       "[1] 35"
      ]
     },
     "metadata": {},
     "output_type": "display_data"
    },
    {
     "data": {
      "text/html": [
       "3"
      ],
      "text/latex": [
       "3"
      ],
      "text/markdown": [
       "3"
      ],
      "text/plain": [
       "[1] 3"
      ]
     },
     "metadata": {},
     "output_type": "display_data"
    }
   ],
   "source": [
    "# Size\n",
    "dim(Orange) # returns number of rows, number of columns\n",
    "nrow(Orange) # returns the number of rows\n",
    "ncol(Orange) # returns the number of columns"
   ]
  },
  {
   "cell_type": "code",
   "execution_count": 24,
   "id": "e6321740",
   "metadata": {},
   "outputs": [
    {
     "data": {
      "text/plain": [
       " Tree       age         circumference  \n",
       " 3:7   Min.   : 118.0   Min.   : 30.0  \n",
       " 1:7   1st Qu.: 484.0   1st Qu.: 65.5  \n",
       " 5:7   Median :1004.0   Median :115.0  \n",
       " 2:7   Mean   : 922.1   Mean   :115.9  \n",
       " 4:7   3rd Qu.:1372.0   3rd Qu.:161.5  \n",
       "       Max.   :1582.0   Max.   :214.0  "
      ]
     },
     "metadata": {},
     "output_type": "display_data"
    }
   ],
   "source": [
    "# Summary\n",
    "summary(Orange) # summary statistics for each column"
   ]
  },
  {
   "cell_type": "code",
   "execution_count": 25,
   "id": "52f3e52f",
   "metadata": {},
   "outputs": [
    {
     "data": {
      "text/html": [
       "<table>\n",
       "<thead><tr><th scope=col>Tree</th><th scope=col>age</th><th scope=col>circumference</th></tr></thead>\n",
       "<tbody>\n",
       "\t<tr><td>1   </td><td> 118</td><td> 30 </td></tr>\n",
       "\t<tr><td>1   </td><td> 484</td><td> 58 </td></tr>\n",
       "\t<tr><td>1   </td><td> 664</td><td> 87 </td></tr>\n",
       "\t<tr><td>1   </td><td>1004</td><td>115 </td></tr>\n",
       "\t<tr><td>1   </td><td>1231</td><td>120 </td></tr>\n",
       "\t<tr><td>1   </td><td>1372</td><td>142 </td></tr>\n",
       "</tbody>\n",
       "</table>\n"
      ],
      "text/latex": [
       "\\begin{tabular}{r|lll}\n",
       " Tree & age & circumference\\\\\n",
       "\\hline\n",
       "\t 1    &  118 &  30 \\\\\n",
       "\t 1    &  484 &  58 \\\\\n",
       "\t 1    &  664 &  87 \\\\\n",
       "\t 1    & 1004 & 115 \\\\\n",
       "\t 1    & 1231 & 120 \\\\\n",
       "\t 1    & 1372 & 142 \\\\\n",
       "\\end{tabular}\n"
      ],
      "text/markdown": [
       "\n",
       "| Tree | age | circumference |\n",
       "|---|---|---|\n",
       "| 1    |  118 |  30  |\n",
       "| 1    |  484 |  58  |\n",
       "| 1    |  664 |  87  |\n",
       "| 1    | 1004 | 115  |\n",
       "| 1    | 1231 | 120  |\n",
       "| 1    | 1372 | 142  |\n",
       "\n"
      ],
      "text/plain": [
       "  Tree age  circumference\n",
       "1 1     118  30          \n",
       "2 1     484  58          \n",
       "3 1     664  87          \n",
       "4 1    1004 115          \n",
       "5 1    1231 120          \n",
       "6 1    1372 142          "
      ]
     },
     "metadata": {},
     "output_type": "display_data"
    }
   ],
   "source": [
    "# The 'head()' function will return the first sixth element of an object:\n",
    "head(Orange)"
   ]
  },
  {
   "cell_type": "markdown",
   "id": "633ccdda",
   "metadata": {},
   "source": [
    "## Data Visualisation"
   ]
  },
  {
   "cell_type": "markdown",
   "id": "b983ff37",
   "metadata": {},
   "source": [
    "ggplot2 is an open-source data visualization package for the statistical programming language R. Created by Hadley Wickham in 2005, ggplot2 is an implementation of Leland Wilkinson's Grammar of Graphics—a general scheme for data visualization which breaks up graphs into semantic components such as scales and layers."
   ]
  },
  {
   "cell_type": "code",
   "execution_count": 29,
   "id": "80c3dc93",
   "metadata": {},
   "outputs": [],
   "source": [
    "library(ggplot2)"
   ]
  },
  {
   "cell_type": "code",
   "execution_count": 31,
   "id": "d38c353c",
   "metadata": {},
   "outputs": [
    {
     "name": "stderr",
     "output_type": "stream",
     "text": [
      "`stat_bin()` using `bins = 30`. Pick better value with `binwidth`.\n"
     ]
    },
    {
     "data": {
      "image/png": "[encoded data removed]",
      "text/plain": [
       "plot without title"
      ]
     },
     "metadata": {},
     "output_type": "display_data"
    }
   ],
   "source": [
    "qplot(circumference, data=Orange)"
   ]
  },
  {
   "cell_type": "code",
   "execution_count": 32,
   "id": "22764af8",
   "metadata": {},
   "outputs": [
    {
     "data": {
      "image/png": "[encoded data removed]",
      "text/plain": [
       "plot without title"
      ]
     },
     "metadata": {},
     "output_type": "display_data"
    }
   ],
   "source": [
    "ggplot(Orange, aes(x=age, y=circumference)) + \n",
    "    geom_point()"
   ]
  },
  {
   "cell_type": "code",
   "execution_count": null,
   "id": "6aef913e",
   "metadata": {},
   "outputs": [],
   "source": []
  }
 ],
 "metadata": {
  "kernelspec": {
   "display_name": "R",
   "language": "R",
   "name": "ir"
  },
  "language_info": {
   "codemirror_mode": "r",
   "file_extension": ".r",
   "mimetype": "text/x-r-source",
   "name": "R",
   "pygments_lexer": "r",
   "version": "3.6.1"
  }
 },
 "nbformat": 4,
 "nbformat_minor": 5
}
